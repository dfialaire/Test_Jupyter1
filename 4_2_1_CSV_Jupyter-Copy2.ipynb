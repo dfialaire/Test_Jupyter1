{
 "cells": [
  {
   "cell_type": "code",
   "execution_count": 1,
   "metadata": {},
   "outputs": [],
   "source": [
    "from ipywidgets import *\n",
    "import csv ## https://docs.python.org/fr/3.6/library/csv.html \n",
    "import os ## Pour utiliser la methode ci-dessous Get Current Worked Directory pour lire la page Web crée dans le dossier courant.\n",
    "Lieu = os.getcwd()  ## methode Get Current Worked Directory pour lire la page Web crée dans le dossier courant.\n",
    "#################################################\n",
    "def Recup_Donnees(titre_csv):\n",
    "    \"\"\" Cette fonction initiale et essentielle permet de construire\n",
    "        une liste de tuples contenant toutes les informations du \n",
    "        tableau par lignes. \"\"\"\n",
    "    Donnees=[]  ## liste de tuples pour récupérer toutes les données du fichier csv\n",
    "    Ligne_Donnees=[]  ## sous liste pour créer la liste des tuples de Donnees\n",
    "    with open(titre_csv, \"r\", encoding=\"utf-8\") as texte:  ## Ouverture du csv en mode utf 8 pour encodage des caractères français\n",
    "        Les_lignes = csv.reader(texte, delimiter=';') ## lecture de chaque ligne du fichier csv\n",
    "        for ligne in Les_lignes:  ## bouclage sur chaque ligne des lignes\n",
    "            for element in ligne:  ## Récupération de chaque élément de chaque ligne\n",
    "                Ligne_Donnees.append(element)  ## création d'1 tuple avec tous les éléments d'1 même ligne\n",
    "            Ligne_Donnees=tuple(Ligne_Donnees)  ## assurance qu'il s'agit bien d'un tuple ..?\n",
    "            Donnees.append(Ligne_Donnees)  ## Ajout du tuple créé à la liste de tuple Données\n",
    "            Ligne_Donnees=[]  ## Réinitialisation d'1 futur 'tuple' vide pour boucler sur la ligne suivant du tableau\n",
    "    longueur_Donnees=len(Donnees)  ## Détermination de la longueurs des Données\n",
    "    return Donnees,longueur_Donnees\n",
    "Donnees,longueur_Donnees=Recup_Donnees(\"Entreprises_Complet.csv\")\n",
    "# print(\"longueur = \",longueur_Donnees)"
   ]
  },
  {
   "cell_type": "code",
   "execution_count": 2,
   "metadata": {},
   "outputs": [],
   "source": [
    "from ipyleaflet import (\n",
    "    Map,\n",
    "    Marker, MarkerCluster,\n",
    "    TileLayer, ImageOverlay,\n",
    "    Polyline, Polygon, Rectangle, Circle, CircleMarker,\n",
    "    Popup,\n",
    "    GeoJSON,\n",
    "    DrawControl,\n",
    "    basemaps, FullScreenControl,\n",
    "    SearchControl, AwesomeIcon\n",
    ")\n",
    "\n",
    "from ipywidgets import HTML"
   ]
  },
  {
   "cell_type": "code",
   "execution_count": 3,
   "metadata": {},
   "outputs": [],
   "source": [
    "# def drop_fonc(change):\n",
    "#     rien=1"
   ]
  },
  {
   "cell_type": "code",
   "execution_count": 4,
   "metadata": {},
   "outputs": [],
   "source": [
    "# drop=widgets.Dropdown(\n",
    "#     options=[[49.25112, 4.0271], [50, 3]],\n",
    "\n",
    "#     description='Coordonnées de départ :',\n",
    "#     disabled=False,\n",
    "# )\n",
    "# drop.observe(drop_fonc,names='value')\n",
    "# display(drop)"
   ]
  },
  {
   "cell_type": "code",
   "execution_count": 5,
   "metadata": {},
   "outputs": [],
   "source": [
    "cent = [49.25112, 4.0271] #drop.value#\n",
    "zoom = 20"
   ]
  },
  {
   "cell_type": "code",
   "execution_count": 6,
   "metadata": {},
   "outputs": [
    {
     "data": {
      "application/vnd.jupyter.widget-view+json": {
       "model_id": "e3a0684b67524c2e814144844d6efb30",
       "version_major": 2,
       "version_minor": 0
      },
      "text/plain": [
       "Map(center=[49.25112, 4.0271], controls=(ZoomControl(options=['position', 'zoom_in_text', 'zoom_in_title', 'zo…"
      ]
     },
     "metadata": {},
     "output_type": "display_data"
    }
   ],
   "source": [
    "m = Map(center=cent, zoom=zoom)\n",
    "m.add_control(FullScreenControl())\n",
    "marker = Marker(icon=AwesomeIcon(name=\"check\", marker_color='green', icon_color='darkgreen'))\n",
    "\n",
    "m.add_control(SearchControl(\n",
    "  position=\"topleft\",\n",
    "  url='https://nominatim.openstreetmap.org/search?format=json&q={s}',\n",
    "  zoom=15,\n",
    "  marker=marker\n",
    "))\n",
    "\n",
    "\n",
    "m"
   ]
  },
  {
   "cell_type": "code",
   "execution_count": 7,
   "metadata": {},
   "outputs": [
    {
     "data": {
      "application/vnd.jupyter.widget-view+json": {
       "model_id": "a041f74cd0614a82849849a8dbab0016",
       "version_major": 2,
       "version_minor": 0
      },
      "text/plain": [
       "Box(children=(IntSlider(value=20, description='zoom', max=20, min=5),))"
      ]
     },
     "metadata": {},
     "output_type": "display_data"
    }
   ],
   "source": [
    "m.interact(zoom=(5,20,1))"
   ]
  },
  {
   "cell_type": "code",
   "execution_count": 8,
   "metadata": {},
   "outputs": [],
   "source": [
    "# m.clear_layers()"
   ]
  },
  {
   "cell_type": "code",
   "execution_count": 9,
   "metadata": {},
   "outputs": [],
   "source": [
    "# m.add_layer(basemaps.Esri.DeLorme)"
   ]
  },
  {
   "cell_type": "code",
   "execution_count": 10,
   "metadata": {},
   "outputs": [],
   "source": [
    "# print(m.center)\n",
    "# print(m.zoom)"
   ]
  },
  {
   "cell_type": "code",
   "execution_count": 11,
   "metadata": {
    "scrolled": false
   },
   "outputs": [
    {
     "name": "stdout",
     "output_type": "stream",
     "text": [
      " ***** Ligne =  1  ***********\n",
      "\n",
      "['Pharmaceutique', 'Médicaments', 'Delpharm Reims', '2020_A=2 2019_A=4 2018_A=7  ; 2017_A=5 ; 2017_i=1 ; 2016_A=6 ; 2016_i=1 ; 2015_A=3  ; 2014_A=3 ', 'Fialaire / Boehm', 'Morane Fournel- S2BC App/ Marine Le Mouellic-S2BC APP/', 'Mme Sylvie Peyre / Allexandre Delaval /', '', 'Ferjani / Ripamonti / Fialaire / Boehm', 'Camille Foret -S2BC App-/ Chloé Misery - S2BC App/ Morane Fournel- S2BC App - S1BC App/ Marine Le Mouellic-S2BC App- S1BC APP/', ' Laurence Coulmy / Christophe Aerts / Mme Sylvie Peyre / Allexandre Delaval /', '', 'Zimmer /Ferjani / Muller/ Ferjani / Ripamonti / Fialaire / Boehm /', 'Clément Reichard- S2BC App/ Aymeric Giroutrou-S2BC App/Alexis Braconnier-S2BCA/Camille Foret -S2BC App-S1BC App/ Chloé Misery - S2BC App-S1BC App/ Morane Fournel- S1BC App/ Marine Le Mouellic-S1BC APP/', 'Mme Sylvie Peyre / Mr. Christophe Aerts / Mme Natacha Hourlier / Laurence Coulmy / Christophe Aerts / Mme Sylvie Peyre / Allexandre Delaval /', '', 'Zimmer/ Ferjani/ Muller / Ferjani / Ripamonti / Ory /', 'Clément Reichard- S2BC App-S1BC App/Aymeric Giroutrou-S2BC App-S1BC App/Alexis Braconnier-S2BC App- S1BC App/Camille Foret-S1BC App/ Chloé Misery-S1BC APP/ Clément Idiri /', 'Mme Sylvie Peyre / Mr. Christophe Aerts / Mme Natacha Hourlier / Laurence Coulmy / Christophe Aerts / Laurence Coulmy /', '', 'Zimmer/ Ferjani/ Ferjani/ Muller', 'Clément Reichard- S1BC App/Aymeric Giroutrou-S1BC App/Fulya Karaoglu / Alexis Braconnier- S1BC App/ Mégan Devillez-S2BC App/ Léa Jaillet-S2BC App / Anthony Lefranc-S2BC App', 'Mme Sylvie Peyre - Mme Joly Flore-Marie- 0326888110 - 0326888110 / Mr. Christophe Aerts / _ _ / Mme Natacha Hourlier/ Mr. Christophe Gabaut / Mme Coulmy Laurence / Mr. Zurylo Jérome', '', '', 'Mégan Devillez-S2BC App-S1BC App/ Léa Jaillet-S2BC App-S1BC App / Anthony Lefranc-S2BC App-S1BC App', 'Mr. Christophe Gabaut / Mme Coulmy Laurence / Mr. Zurylo Jérome', '', '', 'Mégan Devillez-S1BC App/ Léa Jaillet-S1BC App / Anthony Lefranc-S1BC App', 'Mr. Christophe Gabaut / Mme Coulmy Laurence / Mr. Zurylo Jérome', '', '10, rue colonel Charbonneaux', 'Reims', '51100', '03 26 88 81 10', 'https://www.google.fr/maps/place/I.N.R.A+Institut+National+de+la+Recherche+Agronomique/@49.2385092,4.0600107,16.75z/data=!4m5!3m4!1s0x47e97423fbc6d089:0xab412940539751c9!8m2!3d49.23788!4d4.0625992', '49.2727416824859,  4.003045026580413 ', '72F3+26 Reims', '', '', '', '', '', '', '1', 'N° 1 Delpharm Reims', '8', 'N° 8 Delpharm Reims', '2', '', '4', '', '7', '', '5', '1', '6', '1', '3', '', '3', '', '127', '7', '2', '4', '7', '5', '6', '3', '3', '0', '0', '0', '1', '1', '0', '0', '']\n",
      "49.2727416824859,  4.003045026580413 \n",
      "<class 'str'>\n",
      "latitude= 49.2727416824859\n",
      "longitude=   4.003045026580413 \n",
      "poz\n",
      " ***** Ligne =  2  ***********\n",
      "\n",
      "['Cosmétique', 'actif cosmétique', 'GIVAUDAN (Ex. Soliance)', '2020_A=1 2019_A=1 2018_A=2 ; 2018_i=1 ; 2017_A=1  ; 2016_A=2  ; 2015_A=1  ; 2014_A=2 ; 2014_i=1', 'Muller/', 'Angeline Collardelle-S2BC App - S1BC App/', '_ _ /', '', 'Muller/', 'Angeline Collardelle-S2BC App - S1BC App/', '', '', 'Fialaire/Ripamonti/ Muller /', 'Lucien Martinez-S1BC-\" Contribution à l\\'évaluation d\\'un procédé d\\'obtention d\\'un actif cosmétique.\"/ Elisa Keller- S2BC App/ Angeline Collardelle-S1BC App/', 'Mr. Guilleret Arnaud- 0326464916 - 0648114051 - arnaud.guilleret@givaudan.com / idem / _ _', 'Mr. Rannou Alexis- 0326884410 - alexis.rannou@givaudan.com / catherine.doche@givaudan.com', 'Ripamonti/', 'Elisa Keller- S2BC App- S1BC App/', 'Mr. Guilleret Arnaud- 0326464916 - 0648114051 - arnaud.guilleret@givaudan.com', '', 'Ripamonti/', 'Elisa Keller- S1BC App/ Mélanie Machado Nunes- S2BC App', 'Mr. Guilleret Arnaud- 0326464916 - 0648114051 - arnaud.guilleret@givaudan.com / Mr. Guilleret Arnaud- 0326464916 - 0648114051 - arnaud.guilleret@givaudan.com ', '', '', 'Mélanie Machado Nunes- S2BC App-S1BC App /', 'Mr. Guilleret Arnaud- 0326464916 - 0648114051 - arnaud.guilleret@givaudan.com ', '', 'Chaffaut / _ _ / Fialaire', 'Kévin George / Mélanie Machado Nunes- S1BC App / Camille Girouard-App /', 'Mme Lebrun Marine (Technicienne Labo R&D) - 0326888410 - m.lebrun@soliance.com / Mr. Guilleret Arnaud- 0326464916 - 0648114051 - arnaud.guilleret@givaudan.com / Mme Mameda Fabienne ', '', ' Route de Bazancourt', 'Pomacle', '51110', '03 26 88 84 10', 'https://www.linkedin.com/company/givaudan/', '49.34601046121476,  4.161108999598786 ', '', 'Mr. Le HENAFF (Dir. Général)', 'Mme LEBRUN Marine / Mme DINANT Céline / Alexis rannous\\n', 'Technicienne labo R+D / _ _ / Alexis rannous / Carole Lambert', '03 26 05 42 80 / _ _  / 03 26 88 84 10 / 032646-4982 -  \\n0679377206\\n', 'm.lebrun@soliance.com / c.dinant@soliance.com / _ _ / alexis.rannou@givaudan.fr / ', '', '2', 'N° 2 GIVAUDAN (Ex. Soliance)', '11', 'N° 11 GIVAUDAN (Ex. Soliance)', '1', '', '1', '', '2', '1', '1', '', '2', '', '1', '', '2', '1', '43', '6', '1', '1', '2', '1', '2', '1', '2', '0', '0', '1', '0', '0', '0', '1', '']\n",
      "49.34601046121476,  4.161108999598786 \n",
      "<class 'str'>\n",
      "latitude= 49.34601046121476\n",
      "longitude=   4.161108999598786 \n",
      "poz\n",
      " ***** Ligne =  3  ***********\n",
      "\n",
      "['Alimentaire', 'Contrôles sanitaires', \"Laboratoire Départemental d’Analyses et de Recherche (LDAR) de l'Aisne.\", '    2018_A=1  ; 2017_A=2 ; 2017_i=1 ; 2016_A=2 ; 2016_i=1 ; 2015_A=3  ; 2014_A=2 ', '', '', '', '', '', '', '', '', 'Fialaire/', 'Mélissa Soyez-S2BCA-\"Mise en place méthode interne de dénombrement\"', 'Mr. Astier Francis- 0679092654 - fastier@aisne.fr', '', 'Fialaire/Fialaire / Rossi', 'Salomé Piat-S2BCA-\"Mise en place méthode interne isolement Pseudomonas\"/Mélissa Soyez-S2BCA-S1BCA-\"Mise en place méthode interne de dénombrement\" / Manon Lupianez/', 'Mr. Astier Francis- 0679092654 - fastier@aisne.fr / Mr. Raimbault Aurélien - 0323040656 - araimbault@aisne.fr', '', 'Chaffaut/Fialaire/Fialaire', 'Cindy Diot / Mélissa Soyez-S1BCA-\"Mise en place méthode interne de dénombrement\"/Salomé Piat-S1BCA-S2BCA-\"Mise en place méthode interne isolement Pseudomonas\"', 'Mme Lienard Alice- 0323240646 - alienard@aisne.fr / Mr. Astier Francis- 0679092654 - fastier@aisne.fr / Mr. Astier Francis- 0679092654 - fastier@aisne.fr', '', 'Fialaire/', 'Salomé Piat-S1BCA-\"Mise en place méthode interne isolement Pseudomonas\" / Mélanie Prophete-S2BC App / Cindy Deblet -S2BC App', 'Mr. Astier Francis- 0679092654 - fastier@aisne.fr / Mr. Astier Francis- 0679092654 - fastier@aisne.fr / Mr. Astier Francis- 0679092654 - fastier@aisne.fr', '', '', 'Mélanie Prophete-S2BC App-S1BC App / Cindy Deblet -S2BC App-S1BC App /', 'Mr. Astier Francis- 0679092654 - fastier@aisne.fr / Mr. Astier Francis- 0679092654 - fastier@aisne.fr', '', '180, rue Pierre-Gilles de Gennes, Zone d’activités du Griffon, Barenton-Bugny', 'Laon', '02007', '03 23 24 06 00', 'https://goo.gl/maps/J7dmv6mseHS2', '49.610098532841626,  3.6640074615068445 ', '', '', '', '', '', '', '', '3', \"N° 3 Laboratoire Départemental d’Analyses et de Recherche (LDAR) de l'Aisne.\", '9', \"N° 9 Laboratoire Départemental d’Analyses et de Recherche (LDAR) de l'Aisne.\", '', '', '', '', '1', '', '2', '1', '2', '1', '3', '', '2', '', '34', '7', '0', '0', '1', '2', '2', '3', '2', '0', '0', '0', '1', '1', '0', '0', '']\n",
      "49.610098532841626,  3.6640074615068445 \n",
      "<class 'str'>\n",
      "latitude= 49.610098532841626\n",
      "longitude=   3.6640074615068445 \n",
      "poz\n",
      " ***** Ligne =  4  ***********\n",
      "\n",
      "['Alimentaire', 'champagne', 'MHCS  (Champagne Moët et Chandon)', '  2019_A=1 2018_A=1 ; 2018_i=1 ; 2017_A=2 ; 2017_i=1 ; 2016_A=1  ; 2015_A=1   ', '', '', '', '', 'Chaumet/', 'Rayane Diabi-S2BC App/', 'Mme Bertemes Marie-Christine -   mbertemes@mhws.fr', '', 'Chaumet/ Legrand/Fialaire', 'Rayane Diabi-S2BC APP-S1BC App/ Pauline Verquin-S1BC-\"Mise en place des paramètres vins sur le multi-paramétriques Beckman\"/ Tamara Sol-S2BC/\\n', 'Mme Bertemes Marie-Christine -   mbertemes@mhws.fr / Mme Bertemes Marie-Christine/ Mme Delphine Tupin - dtupin@moethennessy.com - 0326899229 /', '', 'Ferjani/ Chaumet / Ory /', 'Sarah Billiaux-S2BC App/ Rayane Diabi-S1BC App/ Camille Griffon /', 'Mme Bertemes Marie-Christine -   mbertemes@mhws.fr / _ _ / Mme Bertemes Marie-Christine', '', 'Ferjani/', 'Sarah Billiaux-S1BC App-S2BC App/', 'Mme Bertemes Marie-Christine -   mbertemes@mhws.fr', '', 'Ferjani/', 'Sarah Billiaux-S1BC App/', 'Mme Bertemes Marie-Christine -   mbertemes@mhws.fr', '', '', '', '', '', '20, avenue de Champagne', '  EPERNAY ', '51200', '', 'https://www.google.fr/maps/place/Champagne+Mo%C3%ABt+et+Chandon/@49.0429453,3.9592346,15z/data=!4m2!3m1!1s0x0:0xb5b942452cd16727?sa=X&ved=0ahUKEwjuwrmnruzaAhUlDsAKHUGBABUQ_BIIuwEwCg', '49.04205917460978,  3.9614661979189165 ', 'Mme HOCHE -GUINGUAMP', 'Mme BERTEMES Marie-Christine', '', ' Responsable laboratoire', '03 26 51 33 69  ', '  mbertemes@mhws.fr', '', '4', 'N° 4 MHCS  (Champagne Moët et Chandon)', '3', 'N° 3 MHCS  (Champagne Moët et Chandon)', '', '', '1', '', '1', '1', '2', '1', '1', '', '1', '', '', '', '33', '9', '0', '1', '1', '2', '1', '1', '0', '0', '0', '1', '1', '0', '0', '0', '']\n",
      "49.04205917460978,  3.9614661979189165 \n",
      "<class 'str'>\n",
      "latitude= 49.04205917460978\n",
      "longitude=   3.9614661979189165 \n"
     ]
    },
    {
     "name": "stdout",
     "output_type": "stream",
     "text": [
      "poz\n",
      " ***** Ligne =  5  ***********\n",
      "\n",
      "['Alimentaire', 'vins', 'SOFRALAB', '    2018_A=1 ; 2018_i=1 ; 2017_A=1  ; 2016_A=2 ; 2016_i=1 ; 2015_A=1  ; 2014_A=2 ', '', '', '', '', '', '', '', '', 'Fialaire/Rossi', 'Baptiste Martinez-S1BC-\"Contrôle sur les vins\"/ Alexia Aarnink-S2BC App', 'Mme Jendryka Cécile (Ex. Le Brishoual)- 0326511345 - clebrishoual@sofralab.com / Mme Nelly Champion', 'Mr. Guillouard Éric- 0326416073 - eguillouard@sofralab.com', 'Rossi', 'Alexia Aarnink-S2BC App- S1BC App/', 'Mme Nelly Champion/', '', 'Chaffaut/Rossi', 'Céline Gérardin-Méry/ Alexia Aarnink- S1BC App/ Alexandre Cousin-S2BC App/', 'Mme Le Brishoual Cécile (Resp. Labo)- 0326512932 - 0326512932 - clebrishoual@sofralab.com / Mme Nelly Champion / Mme Nelly Champion', '', '', 'Alexandre Cousin-S2BC App-S1BC App/', 'Mme Champion Nelly', '', '', 'Alexandre Cousin-S1BC App/ Léa Nouvelet- S2BC App /', 'Mme Champion Nelly / Mr. Leboeuf Dominique - 0326515645 - dleboeuf@sofralab.com /', '', '79, avenue Alfred Anatol Thévenet', 'Magenta', '51530', '03 26 51 29 32', 'https://www.google.fr/maps/place/SOFRALAB/@49.057118,3.964323,15z/data=!4m2!3m1!1s0x0:0x45625101e2d27f36?sa=X&ved=0ahUKEwil8s3U7NXaAhXKesAKHRFeCdUQ_BIIkwEwCg', '49.05758202232491,  3.964494661378378 ', '', 'Mr. Guillouard Éric : 0326512932 eguillouard@sofralab.com', 'Mme. JENDRYKA Cécile (Resp. Labo) / Mme Dauteuil Gladys (Resp. RH)', '', '03 26 51 13 45 / 03 26 51 29 32', 'clebrishoual@sofralab.com / gdauteuil@sofralab.com', 'aussi 1ère STL-', '5', 'N° 5 SOFRALAB', '7', 'N° 7 SOFRALAB', '', '', '', '', '1', '1', '1', '', '2', '1', '1', '', '2', '', '27', '8', '0', '0', '1', '1', '2', '1', '2', '0', '0', '1', '0', '1', '0', '0', '']\n",
      "49.05758202232491,  3.964494661378378 \n",
      "<class 'str'>\n",
      "latitude= 49.05758202232491\n",
      "longitude=   3.964494661378378 \n",
      "poz\n",
      " ***** Ligne =  6  ***********\n",
      "\n",
      "['Alimentaire', 'Nutrition animale', 'Union Invivo (Ex. Invivo Labs)', '    2018_A=1  ; 2017_A=1 ; 2017_i=1 ; 2016_A=2 ; 2016_i=1 ; 2015_A=1  ; 2014_A=1 ', '', '', '', '', '', '', '', '', 'Chaumet/', 'Chloé Jocquel - S2BC App/', 'Mr. Coget Fabien', '', 'Chaumet/ Boehm', 'Chloé Jocquel - S2BC App- S1BC App/ Kévin Aurieux', 'Mr. Coget Fabien - 03 23 84 20 60 - 01 71 25 06 06 - fcoget@invivo_labs.com / Mr. Coget Fabien', '', 'Chaumet/ Ory/', 'Aurélie Bony-S2BC App/Chloé Jocquel - S1BC App/ Emilie Waroquet-S1BC/', 'Mme Bribe Chantal/ Mr. Coget Fabien /Mme Cosquer Mathilde (Resp.) - 0171250606 - mcosquer@invivo-labs.com', '', '', 'Aurélie Bony-S2BC App-S1BC App/', 'Mme Bribe Chantal', '', '', 'Aurélie Bony-S1BC App/', 'Mme Bribe Chantal', '', \"Rue de l'Église\", 'Chierry', '02400', '03 23 84 80 09', '', '49.0415794698341,  3.4231338977348655', '', '', 'Sarah GAIDE', 'Assistante RH', '03 23 84 20 73', 'www.upscience-labs.com', '', '6', 'N° 6 Union Invivo (Ex. Invivo Labs)', '10', 'N° 10 Union Invivo (Ex. Invivo Labs)', '', '', '', '', '1', '', '1', '1', '2', '1', '1', '', '1', '', '25', '7', '0', '0', '1', '1', '2', '1', '1', '0', '0', '0', '1', '1', '0', '0', '']\n",
      "49.0415794698341,  3.4231338977348655\n",
      "<class 'str'>\n",
      "latitude= 49.0415794698341\n",
      "longitude=   3.4231338977348655\n",
      "poz\n"
     ]
    }
   ],
   "source": [
    "for ligne in range(1,7):\n",
    "    tupl=Donnees[ligne]\n",
    "    li=list(tupl)\n",
    "    print(\" ***** Ligne = \",ligne,\" ***********\")\n",
    "    print()\n",
    "    print(li)\n",
    "    result=li[37]\n",
    "    print(result)\n",
    "    print(type(result))\n",
    "    result=result.split(\",\")\n",
    "    latitude=result[0]\n",
    "    longitude=result[1]\n",
    "    Coord = [latitude, longitude]\n",
    "    print(\"latitude=\",latitude)\n",
    "    print(\"longitude=\",longitude)\n",
    "#     pauz=input(\"poz\")\n",
    "    infos=\"<u>Entreprise :</u> <b>\"+str(li[2])+\"</b> : <br />\"+str(li[0])+\" : \"+str(li[1])+\". <br />\"+str(li[32])+\", \"+str(li[33])+\" \"+str(li[34])+\"<br/> --> Tel : \"+str(li[35])+\"<br/> --> Mail : \"+str(li[43])+\"<br/> --> <a target='_blank' rel='noopener noreferrer' href='\"+str(li[36])+\"'> : Lien </a>\"\n",
    "    \n",
    "    \n",
    "#     folium.Marker([latitude, longitude],popup=infos).add_to(c)\n",
    "    mark = Marker(location=Coord, draggable=False)\n",
    "    m.add_layer(mark)\n",
    "    message2 = HTML()\n",
    "    message2.value = infos\n",
    "    # Popup with a given location on the map:\n",
    "    popup = Popup(\n",
    "        location=Coord,\n",
    "        close_button=False,\n",
    "        auto_close=False,\n",
    "        close_on_escape_key=False\n",
    "    ) #        child=message2,\n",
    "#     m.add_layer(popup)\n",
    "\n",
    "    # Popup associated to a layer\n",
    "    mark.popup = message2\n",
    "    \n",
    "    #     m += mark\n",
    "    \n",
    "#     c.save('CarteLibergier.html')\n",
    "#     adress=Lieu+\"\\CarteLibergier.html\"\n",
    "#     c.add_child(folium.LatLngPopup())"
   ]
  },
  {
   "cell_type": "code",
   "execution_count": 12,
   "metadata": {},
   "outputs": [],
   "source": [
    "# mark.interact(opacity=(0.0,1.0,0.01))"
   ]
  },
  {
   "cell_type": "code",
   "execution_count": 13,
   "metadata": {},
   "outputs": [],
   "source": [
    "# html_widget = HTML(\n",
    "#     value=\"\"\"\n",
    "#         <div>Some html with a list of items\n",
    "#         <ul class='list-group'>\n",
    "#             <li class='list-group-item'>Item A</li>\n",
    "#             <li class='list-group-item'>Item B</li>\n",
    "#             <li class='list-group-item'>Item C</li>\n",
    "#         </ul></div>\"\"\",\n",
    "#     placeholder='',\n",
    "#     description='',\n",
    "# )"
   ]
  },
  {
   "cell_type": "code",
   "execution_count": 14,
   "metadata": {},
   "outputs": [],
   "source": [
    "# mark.popup = html_widget"
   ]
  }
 ],
 "metadata": {
  "kernelspec": {
   "display_name": "Python 3",
   "language": "python",
   "name": "python3"
  },
  "language_info": {
   "codemirror_mode": {
    "name": "ipython",
    "version": 3
   },
   "file_extension": ".py",
   "mimetype": "text/x-python",
   "name": "python",
   "nbconvert_exporter": "python",
   "pygments_lexer": "ipython3",
   "version": "3.8.8"
  }
 },
 "nbformat": 4,
 "nbformat_minor": 2
}
