{
 "cells": [
  {
   "cell_type": "code",
   "execution_count": null,
   "metadata": {},
   "outputs": [],
   "source": [
    "import csv ## https://docs.python.org/fr/3.6/library/csv.html \n",
    "import os ## Pour utiliser la methode ci-dessous Get Current Worked Directory pour lire la page Web crée dans le dossier courant.\n",
    "Lieu = os.getcwd()  ## methode Get Current Worked Directory pour lire la page Web crée dans le dossier courant.\n",
    "#################################################\n",
    "def Recup_Donnees(titre_csv):\n",
    "    \"\"\" Cette fonction initiale et essentielle permet de construire\n",
    "        une liste de tuples contenant toutes les informations du \n",
    "        tableau par lignes. \"\"\"\n",
    "    Donnees=[]  ## liste de tuples pour récupérer toutes les données du fichier csv\n",
    "    Ligne_Donnees=[]  ## sous liste pour créer la liste des tuples de Donnees\n",
    "    with open(titre_csv, \"r\", encoding=\"utf-8\") as texte:  ## Ouverture du csv en mode utf 8 pour encodage des caractères français\n",
    "        Les_lignes = csv.reader(texte, delimiter=';') ## lecture de chaque ligne du fichier csv\n",
    "        for ligne in Les_lignes:  ## bouclage sur chaque ligne des lignes\n",
    "            for element in ligne:  ## Récupération de chaque élément de chaque ligne\n",
    "                Ligne_Donnees.append(element)  ## création d'1 tuple avec tous les éléments d'1 même ligne\n",
    "            Ligne_Donnees=tuple(Ligne_Donnees)  ## assurance qu'il s'agit bien d'un tuple ..?\n",
    "            Donnees.append(Ligne_Donnees)  ## Ajout du tuple créé à la liste de tuple Données\n",
    "            Ligne_Donnees=[]  ## Réinitialisation d'1 futur 'tuple' vide pour boucler sur la ligne suivant du tableau\n",
    "    longueur_Donnees=len(Donnees)  ## Détermination de la longueurs des Données\n",
    "    return Donnees,longueur_Donnees\n",
    "Donnees,longueur_Donnees=Recup_Donnees(\"Entreprises_Complet.csv\")\n",
    "print(longueur_Donnees)\n",
    "tupl=Donnees[2]\n",
    "li=list(tupl)\n",
    "print(li)\n",
    "result=li[37]\n",
    "print(result)\n",
    "print(type(result))\n",
    "result=result.split(\",\")\n",
    "latitude=result[0]\n",
    "longitude=result[1]\n",
    "print(latitude)\n",
    "print(longitude)\n"
   ]
  },
  {
   "cell_type": "markdown",
   "metadata": {},
   "source": [
    "__Données structurées : __"
   ]
  },
  {
   "cell_type": "markdown",
   "metadata": {},
   "source": [
    "**__Script 1 : Ouverture d'un fichier .csv__**"
   ]
  },
  {
   "cell_type": "code",
   "execution_count": null,
   "metadata": {
    "scrolled": false
   },
   "outputs": [],
   "source": [
    "import os\n",
    "import pandas\n",
    "\n",
    "Lieu = os.getcwd()\n",
    "info_villes=pandas.read_csv(\"villes_virgule.csv\")\n",
    "print(info_villes)"
   ]
  },
  {
   "cell_type": "markdown",
   "metadata": {},
   "source": [
    "__ Script 2 : Accès à des informations précises du fichier .csv : __"
   ]
  },
  {
   "cell_type": "code",
   "execution_count": null,
   "metadata": {
    "scrolled": false
   },
   "outputs": [],
   "source": [
    "# import os\n",
    "# import pandas\n",
    "# Lieu = os.getcwd()\n",
    "\n",
    "# info_villes=pandas.read_csv(\"villes_virgule.csv\")\n",
    "\n",
    "# info1=info_villes.loc[info_villes[\"nom\"]=='paris',[\"dep\",\"cp\",\"nb_hab_1999\"]]\n",
    "# print(\"Voici les informations concernant la ville de paris : \")\n",
    "# print(info1)\n",
    "\n",
    "# print()\n",
    "# info2=info_villes.loc[info_villes[\"nom\"]=='Paris',[\"nom\",\"dep\",\"cp\",\"nb_hab_2012\",\"dens\",\"surf\",\"long\",\"lat\",\"alt_min\",\"alt_max\"]]\n",
    "# print(\"Voici les informations concernant la ville de Paris : \")\n",
    "# print(info2)\n",
    "# longitude=info_villes.loc[info_villes[\"nom\"]=='Paris',[\"long\"]]\n",
    "# latitude=info_villes.loc[info_villes[\"nom\"]=='Paris',[\"lat\"]]\n",
    "# print(longitude)\n",
    "# print(latitude)\n",
    "# longitude=longitude.extract('(\\d+)').astype(int)\n",
    "# print(longitude)"
   ]
  },
  {
   "cell_type": "code",
   "execution_count": null,
   "metadata": {},
   "outputs": [],
   "source": [
    "import folium\n",
    "import os\n",
    "Lieu = os.getcwd()\n",
    "# c= folium.Map(location=[49.25112, 4.0271],zoom_start=20)\n",
    "c= folium.Map(location=[latitude, longitude],zoom_start=20)\n",
    "infos=str(li)\n",
    "folium.Marker([latitude, longitude],popup=infos).add_to(c)\n",
    "c.save('CarteLibergier.html')\n",
    "adress=Lieu+\"\\CarteLibergier.html\"\n",
    "c.add_child(folium.LatLngPopup())\n",
    "c"
   ]
  }
 ],
 "metadata": {
  "kernelspec": {
   "display_name": "Python 3",
   "language": "python",
   "name": "python3"
  },
  "language_info": {
   "codemirror_mode": {
    "name": "ipython",
    "version": 3
   },
   "file_extension": ".py",
   "mimetype": "text/x-python",
   "name": "python",
   "nbconvert_exporter": "python",
   "pygments_lexer": "ipython3",
   "version": "3.8.8"
  }
 },
 "nbformat": 4,
 "nbformat_minor": 2
}
