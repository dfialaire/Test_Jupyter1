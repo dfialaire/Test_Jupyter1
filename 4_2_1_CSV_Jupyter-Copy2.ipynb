{
 "cells": [
  {
   "cell_type": "code",
   "execution_count": 1,
   "metadata": {},
   "outputs": [],
   "source": [
    "import csv ## https://docs.python.org/fr/3.6/library/csv.html \n",
    "import os ## Pour utiliser la methode ci-dessous Get Current Worked Directory pour lire la page Web crée dans le dossier courant.\n",
    "Lieu = os.getcwd()  ## methode Get Current Worked Directory pour lire la page Web crée dans le dossier courant.\n",
    "#################################################\n",
    "def Recup_Donnees(titre_csv):\n",
    "    \"\"\" Cette fonction initiale et essentielle permet de construire\n",
    "        une liste de tuples contenant toutes les informations du \n",
    "        tableau par lignes. \"\"\"\n",
    "    Donnees=[]  ## liste de tuples pour récupérer toutes les données du fichier csv\n",
    "    Ligne_Donnees=[]  ## sous liste pour créer la liste des tuples de Donnees\n",
    "    with open(titre_csv, \"r\", encoding=\"utf-8\") as texte:  ## Ouverture du csv en mode utf 8 pour encodage des caractères français\n",
    "        Les_lignes = csv.reader(texte, delimiter=';') ## lecture de chaque ligne du fichier csv\n",
    "        for ligne in Les_lignes:  ## bouclage sur chaque ligne des lignes\n",
    "            for element in ligne:  ## Récupération de chaque élément de chaque ligne\n",
    "                Ligne_Donnees.append(element)  ## création d'1 tuple avec tous les éléments d'1 même ligne\n",
    "            Ligne_Donnees=tuple(Ligne_Donnees)  ## assurance qu'il s'agit bien d'un tuple ..?\n",
    "            Donnees.append(Ligne_Donnees)  ## Ajout du tuple créé à la liste de tuple Données\n",
    "            Ligne_Donnees=[]  ## Réinitialisation d'1 futur 'tuple' vide pour boucler sur la ligne suivant du tableau\n",
    "    longueur_Donnees=len(Donnees)  ## Détermination de la longueurs des Données\n",
    "    return Donnees,longueur_Donnees\n",
    "Donnees,longueur_Donnees=Recup_Donnees(\"Entreprises_Complet.csv\")"
   ]
  },
  {
   "cell_type": "code",
   "execution_count": 2,
   "metadata": {},
   "outputs": [
    {
     "ename": "IndexError",
     "evalue": "list index out of range",
     "output_type": "error",
     "traceback": [
      "\u001b[1;31m---------------------------------------------------------------------------\u001b[0m",
      "\u001b[1;31mIndexError\u001b[0m                                Traceback (most recent call last)",
      "\u001b[1;32m<ipython-input-2-9e94394b3d0b>\u001b[0m in \u001b[0;36m<module>\u001b[1;34m\u001b[0m\n\u001b[0;32m     13\u001b[0m     \u001b[0mresult\u001b[0m\u001b[1;33m=\u001b[0m\u001b[0mresult\u001b[0m\u001b[1;33m.\u001b[0m\u001b[0msplit\u001b[0m\u001b[1;33m(\u001b[0m\u001b[1;34m\",\"\u001b[0m\u001b[1;33m)\u001b[0m\u001b[1;33m\u001b[0m\u001b[1;33m\u001b[0m\u001b[0m\n\u001b[0;32m     14\u001b[0m     \u001b[0mlatitude\u001b[0m\u001b[1;33m=\u001b[0m\u001b[0mresult\u001b[0m\u001b[1;33m[\u001b[0m\u001b[1;36m0\u001b[0m\u001b[1;33m]\u001b[0m\u001b[1;33m\u001b[0m\u001b[1;33m\u001b[0m\u001b[0m\n\u001b[1;32m---> 15\u001b[1;33m     \u001b[0mlongitude\u001b[0m\u001b[1;33m=\u001b[0m\u001b[0mresult\u001b[0m\u001b[1;33m[\u001b[0m\u001b[1;36m1\u001b[0m\u001b[1;33m]\u001b[0m\u001b[1;33m\u001b[0m\u001b[1;33m\u001b[0m\u001b[0m\n\u001b[0m\u001b[0;32m     16\u001b[0m     \u001b[1;31m# print(latitude)\u001b[0m\u001b[1;33m\u001b[0m\u001b[1;33m\u001b[0m\u001b[1;33m\u001b[0m\u001b[0m\n\u001b[0;32m     17\u001b[0m     \u001b[1;31m# print(longitude)\u001b[0m\u001b[1;33m\u001b[0m\u001b[1;33m\u001b[0m\u001b[1;33m\u001b[0m\u001b[0m\n",
      "\u001b[1;31mIndexError\u001b[0m: list index out of range"
     ]
    }
   ],
   "source": [
    "import folium\n",
    "Lieu = os.getcwd()\n",
    "c= folium.Map(location=[49.25112, 4.0271],zoom_start=20)\n",
    "\n",
    "###################\n",
    "for ligne in range(1,4):\n",
    "    tupl=Donnees[ligne]\n",
    "    li=list(tupl)\n",
    "    # print(li)\n",
    "    result=li[37]\n",
    "    # print(result)\n",
    "    # print(type(result))\n",
    "    result=result.split(\",\")\n",
    "    latitude=result[0]\n",
    "    longitude=result[1]\n",
    "    # print(latitude)\n",
    "    # print(longitude)\n",
    "    infos=\"Entreprise______________________: \"+str(li[2])+\" : \"+str(li[0])+\" : \"+str(li[1])+\" : \"+str(li[32])+\", \"+str(li[33])+\" \"+str(li[34])+\" --> \"+str(li[35])\n",
    "    folium.Marker([latitude, longitude],popup=infos).add_to(c)\n",
    "    c.save('CarteLibergier.html')\n",
    "    adress=Lieu+\"\\CarteLibergier.html\"\n",
    "    c.add_child(folium.LatLngPopup())\n",
    "c"
   ]
  }
 ],
 "metadata": {
  "kernelspec": {
   "display_name": "Python 3",
   "language": "python",
   "name": "python3"
  },
  "language_info": {
   "codemirror_mode": {
    "name": "ipython",
    "version": 3
   },
   "file_extension": ".py",
   "mimetype": "text/x-python",
   "name": "python",
   "nbconvert_exporter": "python",
   "pygments_lexer": "ipython3",
   "version": "3.8.8"
  }
 },
 "nbformat": 4,
 "nbformat_minor": 2
}
