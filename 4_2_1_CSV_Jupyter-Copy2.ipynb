{
 "cells": [
  {
   "cell_type": "markdown",
   "metadata": {},
   "source": [
    "__Données structurées : __"
   ]
  },
  {
   "cell_type": "markdown",
   "metadata": {},
   "source": [
    "**__Script 1 : Ouverture d'un fichier .csv__**"
   ]
  },
  {
   "cell_type": "code",
   "execution_count": 1,
   "metadata": {
    "scrolled": false
   },
   "outputs": [
    {
     "name": "stdout",
     "output_type": "stream",
     "text": [
      "       dep                       nom     cp  nb_hab_2010  nb_hab_1999  \\\n",
      "0        1                      Ozan   1190          618          469   \n",
      "1        1     Cormoranche-sur-Saône   1290         1058          903   \n",
      "2        1                    Plagne   1130          129           83   \n",
      "3        1                   Tossiat   1250         1406         1111   \n",
      "4        1                  Pouillat   1250           88           58   \n",
      "...    ...                       ...    ...          ...          ...   \n",
      "36695  976                      Sada  97640        10195        10195   \n",
      "36696  976                  Tsingoni  97680        10454        10454   \n",
      "36697  971          Saint-Barthélemy  97133         8938         8938   \n",
      "36698  971              Saint-Martin  97150        36979        36979   \n",
      "36699  975  Saint-Pierre-et-Miquelon  97500         6080         6080   \n",
      "\n",
      "       nb_hab_2012  dens    surf      long       lat  alt_min  alt_max  \n",
      "0              500    93    6.60   4.91667  46.38330    170.0    205.0  \n",
      "1             1000   107    9.85   4.83333  46.23330    168.0    211.0  \n",
      "2              100    20    6.20   5.73333  46.18330    560.0    922.0  \n",
      "3             1400   138   10.17   5.31667  46.13330    244.0    501.0  \n",
      "4              100    14    6.23   5.43333  46.33330    333.0    770.0  \n",
      "...            ...   ...     ...       ...       ...      ...      ...  \n",
      "36695        10195   933   10.92  45.10470 -12.84860      NaN      NaN  \n",
      "36696        10454   300   34.76  45.10700 -12.78970      NaN      NaN  \n",
      "36697         8938   372   24.00 -62.83330  17.91670      NaN      NaN  \n",
      "36698        36979   695   53.20  18.09130 -63.08290      NaN      NaN  \n",
      "36699         6080    25  242.00  46.71070   1.71819      NaN      NaN  \n",
      "\n",
      "[36700 rows x 12 columns]\n"
     ]
    }
   ],
   "source": [
    "import os\n",
    "import pandas\n",
    "\n",
    "Lieu = os.getcwd()\n",
    "info_villes=pandas.read_csv(\"villes_virgule.csv\")\n",
    "print(info_villes)"
   ]
  },
  {
   "cell_type": "markdown",
   "metadata": {},
   "source": [
    "__ Script 2 : Accès à des informations précises du fichier .csv : __"
   ]
  },
  {
   "cell_type": "code",
   "execution_count": 2,
   "metadata": {
    "scrolled": true
   },
   "outputs": [
    {
     "name": "stdout",
     "output_type": "stream",
     "text": [
      "Voici les informations concernant la ville de paris : \n",
      "Empty DataFrame\n",
      "Columns: [dep, cp, nb_hab_1999]\n",
      "Index: []\n",
      "\n",
      "Voici les informations concernant la ville de Paris : \n",
      "         nom dep                                                 cp  \\\n",
      "30437  Paris  75  75001-75002-75003-75004-75005-75006-75007-7500...   \n",
      "\n",
      "       nb_hab_2012   dens   surf     long    lat  alt_min  alt_max  \n",
      "30437      2211000  21288  105.4  2.34445  48.86     27.0    127.0  \n"
     ]
    }
   ],
   "source": [
    "import os\n",
    "import pandas\n",
    "Lieu = os.getcwd()\n",
    "\n",
    "info_villes=pandas.read_csv(\"villes_virgule.csv\")\n",
    "\n",
    "info1=info_villes.loc[info_villes[\"nom\"]=='paris',[\"dep\",\"cp\",\"nb_hab_1999\"]]\n",
    "print(\"Voici les informations concernant la ville de paris : \")\n",
    "print(info1)\n",
    "\n",
    "print()\n",
    "info2=info_villes.loc[info_villes[\"nom\"]=='Paris',[\"nom\",\"dep\",\"cp\",\"nb_hab_2012\",\"dens\",\"surf\",\"long\",\"lat\",\"alt_min\",\"alt_max\"]]\n",
    "print(\"Voici les informations concernant la ville de Paris : \")\n",
    "print(info2)"
   ]
  },
  {
   "cell_type": "code",
   "execution_count": null,
   "metadata": {},
   "outputs": [],
   "source": [
    "import folium\n",
    "import os\n",
    "Lieu = os.getcwd()\n",
    "c= folium.Map(location=[49.25112, 4.0271],zoom_start=20)\n",
    "folium.Marker([49.2510, 4.0274],popup=\"Lycée Libergier, Hello\").add_to(c)\n",
    "c.save('CarteLibergier.html')\n",
    "adress=Lieu+\"\\CarteLibergier.html\"\n",
    "c.add_child(folium.LatLngPopup())\n",
    "c"
   ]
  }
 ],
 "metadata": {
  "kernelspec": {
   "display_name": "Python 3",
   "language": "python",
   "name": "python3"
  },
  "language_info": {
   "codemirror_mode": {
    "name": "ipython",
    "version": 3
   },
   "file_extension": ".py",
   "mimetype": "text/x-python",
   "name": "python",
   "nbconvert_exporter": "python",
   "pygments_lexer": "ipython3",
   "version": "3.8.8"
  }
 },
 "nbformat": 4,
 "nbformat_minor": 2
}
