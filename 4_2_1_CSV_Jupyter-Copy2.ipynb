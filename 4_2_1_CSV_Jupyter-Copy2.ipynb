{
 "cells": [
  {
   "cell_type": "code",
   "execution_count": 1,
   "metadata": {},
   "outputs": [],
   "source": [
    "from ipywidgets import *\n",
    "import csv ## https://docs.python.org/fr/3.6/library/csv.html \n",
    "import os ## Pour utiliser la methode ci-dessous Get Current Worked Directory pour lire la page Web crée dans le dossier courant.\n",
    "Lieu = os.getcwd()  ## methode Get Current Worked Directory pour lire la page Web crée dans le dossier courant.\n",
    "#################################################\n",
    "def Recup_Donnees(titre_csv):\n",
    "    \"\"\" Cette fonction initiale et essentielle permet de construire\n",
    "        une liste de tuples contenant toutes les informations du \n",
    "        tableau par lignes. \"\"\"\n",
    "    Donnees=[]  ## liste de tuples pour récupérer toutes les données du fichier csv\n",
    "    Ligne_Donnees=[]  ## sous liste pour créer la liste des tuples de Donnees\n",
    "    with open(titre_csv, \"r\", encoding=\"utf-8\") as texte:  ## Ouverture du csv en mode utf 8 pour encodage des caractères français\n",
    "        Les_lignes = csv.reader(texte, delimiter=';') ## lecture de chaque ligne du fichier csv\n",
    "        for ligne in Les_lignes:  ## bouclage sur chaque ligne des lignes\n",
    "            for element in ligne:  ## Récupération de chaque élément de chaque ligne\n",
    "                Ligne_Donnees.append(element)  ## création d'1 tuple avec tous les éléments d'1 même ligne\n",
    "            Ligne_Donnees=tuple(Ligne_Donnees)  ## assurance qu'il s'agit bien d'un tuple ..?\n",
    "            Donnees.append(Ligne_Donnees)  ## Ajout du tuple créé à la liste de tuple Données\n",
    "            Ligne_Donnees=[]  ## Réinitialisation d'1 futur 'tuple' vide pour boucler sur la ligne suivant du tableau\n",
    "    longueur_Donnees=len(Donnees)  ## Détermination de la longueurs des Données\n",
    "    return Donnees,longueur_Donnees\n",
    "Donnees,longueur_Donnees=Recup_Donnees(\"Entreprises_Complet.csv\")"
   ]
  },
  {
   "cell_type": "code",
   "execution_count": 2,
   "metadata": {},
   "outputs": [],
   "source": [
    "from ipyleaflet import (\n",
    "    Map,\n",
    "    Marker, MarkerCluster,\n",
    "    TileLayer, ImageOverlay,\n",
    "    Polyline, Polygon, Rectangle, Circle, CircleMarker,\n",
    "    Popup,\n",
    "    GeoJSON,\n",
    "    DrawControl,\n",
    "    basemaps, FullScreenControl,\n",
    "    SearchControl, AwesomeIcon\n",
    ")\n",
    "\n",
    "from ipywidgets import HTML"
   ]
  },
  {
   "cell_type": "code",
   "execution_count": 3,
   "metadata": {},
   "outputs": [],
   "source": [
    "# def drop_fonc(change):\n",
    "#     rien=1"
   ]
  },
  {
   "cell_type": "code",
   "execution_count": 4,
   "metadata": {},
   "outputs": [],
   "source": [
    "# drop=widgets.Dropdown(\n",
    "#     options=[[49.25112, 4.0271], [50, 3]],\n",
    "\n",
    "#     description='Coordonnées de départ :',\n",
    "#     disabled=False,\n",
    "# )\n",
    "# drop.observe(drop_fonc,names='value')\n",
    "# display(drop)"
   ]
  },
  {
   "cell_type": "code",
   "execution_count": 5,
   "metadata": {},
   "outputs": [],
   "source": [
    "cent = [49.25112, 4.0271] #drop.value#\n",
    "zoom = 20"
   ]
  },
  {
   "cell_type": "code",
   "execution_count": 6,
   "metadata": {},
   "outputs": [
    {
     "ename": "NameError",
     "evalue": "name 'AwesomeIcon' is not defined",
     "output_type": "error",
     "traceback": [
      "\u001b[1;31m---------------------------------------------------------------------------\u001b[0m",
      "\u001b[1;31mNameError\u001b[0m                                 Traceback (most recent call last)",
      "\u001b[1;32m<ipython-input-6-84a177594f9e>\u001b[0m in \u001b[0;36m<module>\u001b[1;34m\u001b[0m\n\u001b[0;32m      1\u001b[0m \u001b[0mm\u001b[0m \u001b[1;33m=\u001b[0m \u001b[0mMap\u001b[0m\u001b[1;33m(\u001b[0m\u001b[0mcenter\u001b[0m\u001b[1;33m=\u001b[0m\u001b[0mcent\u001b[0m\u001b[1;33m,\u001b[0m \u001b[0mzoom\u001b[0m\u001b[1;33m=\u001b[0m\u001b[0mzoom\u001b[0m\u001b[1;33m)\u001b[0m\u001b[1;33m\u001b[0m\u001b[1;33m\u001b[0m\u001b[0m\n\u001b[0;32m      2\u001b[0m \u001b[0mm\u001b[0m\u001b[1;33m.\u001b[0m\u001b[0madd_control\u001b[0m\u001b[1;33m(\u001b[0m\u001b[0mFullScreenControl\u001b[0m\u001b[1;33m(\u001b[0m\u001b[1;33m)\u001b[0m\u001b[1;33m)\u001b[0m\u001b[1;33m\u001b[0m\u001b[1;33m\u001b[0m\u001b[0m\n\u001b[1;32m----> 3\u001b[1;33m \u001b[0mmarker\u001b[0m \u001b[1;33m=\u001b[0m \u001b[0mMarker\u001b[0m\u001b[1;33m(\u001b[0m\u001b[0micon\u001b[0m\u001b[1;33m=\u001b[0m\u001b[0mAwesomeIcon\u001b[0m\u001b[1;33m(\u001b[0m\u001b[0mname\u001b[0m\u001b[1;33m=\u001b[0m\u001b[1;34m\"check\"\u001b[0m\u001b[1;33m,\u001b[0m \u001b[0mmarker_color\u001b[0m\u001b[1;33m=\u001b[0m\u001b[1;34m'green'\u001b[0m\u001b[1;33m,\u001b[0m \u001b[0micon_color\u001b[0m\u001b[1;33m=\u001b[0m\u001b[1;34m'darkgreen'\u001b[0m\u001b[1;33m)\u001b[0m\u001b[1;33m)\u001b[0m\u001b[1;33m\u001b[0m\u001b[1;33m\u001b[0m\u001b[0m\n\u001b[0m\u001b[0;32m      4\u001b[0m \u001b[1;33m\u001b[0m\u001b[0m\n\u001b[0;32m      5\u001b[0m m.add_control(SearchControl(\n",
      "\u001b[1;31mNameError\u001b[0m: name 'AwesomeIcon' is not defined"
     ]
    }
   ],
   "source": [
    "m = Map(center=cent, zoom=zoom)\n",
    "m.add_control(FullScreenControl())\n",
    "marker = Marker(icon=AwesomeIcon(name=\"check\", marker_color='green', icon_color='darkgreen'))\n",
    "\n",
    "m.add_control(SearchControl(\n",
    "  position=\"topleft\",\n",
    "  url='https://nominatim.openstreetmap.org/search?format=json&q={s}',\n",
    "  zoom=15,\n",
    "  marker=marker\n",
    "))\n",
    "\n",
    "\n",
    "m"
   ]
  },
  {
   "cell_type": "code",
   "execution_count": null,
   "metadata": {},
   "outputs": [],
   "source": [
    "m.interact(zoom=(5,20,1))"
   ]
  },
  {
   "cell_type": "code",
   "execution_count": null,
   "metadata": {},
   "outputs": [],
   "source": [
    "# m.clear_layers()"
   ]
  },
  {
   "cell_type": "code",
   "execution_count": null,
   "metadata": {},
   "outputs": [],
   "source": [
    "# m.add_layer(basemaps.Esri.DeLorme)"
   ]
  },
  {
   "cell_type": "code",
   "execution_count": null,
   "metadata": {},
   "outputs": [],
   "source": [
    "# print(m.center)\n",
    "# print(m.zoom)"
   ]
  },
  {
   "cell_type": "code",
   "execution_count": null,
   "metadata": {},
   "outputs": [],
   "source": [
    "for ligne in range(1,6):\n",
    "    tupl=Donnees[ligne]\n",
    "    li=list(tupl)\n",
    "    # print(li)\n",
    "    result=li[37]\n",
    "    # print(result)\n",
    "    # print(type(result))\n",
    "    result=result.split(\",\")\n",
    "    latitude=result[0]\n",
    "    longitude=result[1]\n",
    "    Coord = [latitude, longitude]\n",
    "    # print(latitude)\n",
    "    # print(longitude)\n",
    "    infos=\"<u>Entreprise :</u> <b>\"+str(li[2])+\"</b> : <br />\"+str(li[0])+\" : \"+str(li[1])+\". <br />\"+str(li[32])+\", \"+str(li[33])+\" \"+str(li[34])+\" --> Tel : \"+str(li[35]+\" , Mail : \"+str(li[43]))\n",
    "    \n",
    "    \n",
    "#     folium.Marker([latitude, longitude],popup=infos).add_to(c)\n",
    "    mark = Marker(location=Coord, draggable=False)\n",
    "    m.add_layer(mark)\n",
    "    message2 = HTML()\n",
    "    message2.value = infos\n",
    "    # Popup with a given location on the map:\n",
    "    popup = Popup(\n",
    "        location=Coord,\n",
    "        close_button=False,\n",
    "        auto_close=False,\n",
    "        close_on_escape_key=False\n",
    "    ) #        child=message2,\n",
    "#     m.add_layer(popup)\n",
    "\n",
    "    # Popup associated to a layer\n",
    "    mark.popup = message2\n",
    "    \n",
    "    #     m += mark\n",
    "    \n",
    "#     c.save('CarteLibergier.html')\n",
    "#     adress=Lieu+\"\\CarteLibergier.html\"\n",
    "#     c.add_child(folium.LatLngPopup())"
   ]
  },
  {
   "cell_type": "code",
   "execution_count": null,
   "metadata": {},
   "outputs": [],
   "source": [
    "# mark.interact(opacity=(0.0,1.0,0.01))"
   ]
  },
  {
   "cell_type": "code",
   "execution_count": null,
   "metadata": {},
   "outputs": [],
   "source": [
    "# html_widget = HTML(\n",
    "#     value=\"\"\"\n",
    "#         <div>Some html with a list of items\n",
    "#         <ul class='list-group'>\n",
    "#             <li class='list-group-item'>Item A</li>\n",
    "#             <li class='list-group-item'>Item B</li>\n",
    "#             <li class='list-group-item'>Item C</li>\n",
    "#         </ul></div>\"\"\",\n",
    "#     placeholder='',\n",
    "#     description='',\n",
    "# )"
   ]
  },
  {
   "cell_type": "code",
   "execution_count": null,
   "metadata": {},
   "outputs": [],
   "source": [
    "# mark.popup = html_widget"
   ]
  }
 ],
 "metadata": {
  "kernelspec": {
   "display_name": "Python 3",
   "language": "python",
   "name": "python3"
  },
  "language_info": {
   "codemirror_mode": {
    "name": "ipython",
    "version": 3
   },
   "file_extension": ".py",
   "mimetype": "text/x-python",
   "name": "python",
   "nbconvert_exporter": "python",
   "pygments_lexer": "ipython3",
   "version": "3.8.8"
  }
 },
 "nbformat": 4,
 "nbformat_minor": 2
}
