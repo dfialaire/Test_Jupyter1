{
 "cells": [
  {
   "cell_type": "markdown",
   "metadata": {},
   "source": [
    "__Données structurées : __"
   ]
  },
  {
   "cell_type": "markdown",
   "metadata": {},
   "source": [
    "**__Script 1 : Ouverture d'un fichier .csv__**"
   ]
  },
  {
   "cell_type": "code",
   "execution_count": null,
   "metadata": {
    "scrolled": false
   },
   "outputs": [],
   "source": [
    "import os\n",
    "import pandas\n",
    "\n",
    "Lieu = os.getcwd()\n",
    "info_villes=pandas.read_csv(\"villes_virgule.csv\")\n",
    "print(info_villes)"
   ]
  },
  {
   "cell_type": "markdown",
   "metadata": {},
   "source": [
    "__ Script 2 : Accès à des informations précises du fichier .csv : __"
   ]
  },
  {
   "cell_type": "code",
   "execution_count": null,
   "metadata": {
    "scrolled": true
   },
   "outputs": [],
   "source": [
    "import os\n",
    "import pandas\n",
    "Lieu = os.getcwd()\n",
    "\n",
    "info_villes=pandas.read_csv(\"villes_virgule.csv\")\n",
    "\n",
    "info1=info_villes.loc[info_villes[\"nom\"]=='paris',[\"dep\",\"cp\",\"nb_hab_1999\"]]\n",
    "print(\"Voici les informations concernant la ville de paris : \")\n",
    "print(info1)\n",
    "\n",
    "print()\n",
    "info2=info_villes.loc[info_villes[\"nom\"]=='Paris',[\"nom\",\"dep\",\"cp\",\"nb_hab_2012\",\"dens\",\"surf\",\"long\",\"lat\",\"alt_min\",\"alt_max\"]]\n",
    "print(\"Voici les informations concernant la ville de Paris : \")\n",
    "print(info2)"
   ]
  },
  {
   "cell_type": "markdown",
   "metadata": {},
   "source": [
    "__ Script 3 : Accès à des informations d'une ville choisie dans le fichier .csv : __"
   ]
  },
  {
   "cell_type": "code",
   "execution_count": null,
   "metadata": {
    "scrolled": false
   },
   "outputs": [
    {
     "name": "stdout",
     "output_type": "stream",
     "text": [
      "\n",
      "Choisissez une ville (ou 0 pour quitter) : \n",
      "Bonneval-sur-Arc\n",
      "\n",
      "Voici les informations sur la ville ' Bonneval-sur-Arc ' :\n",
      "\n",
      "                    nom dep     cp  nb_hab_2012  dens   surf  long      lat  \\\n",
      "30127  Bonneval-sur-Arc  73  73480          200     2  82.72  7.05  45.3667   \n",
      "\n",
      "       alt_min  alt_max  \n",
      "30127   1759.0   3642.0  \n",
      "\n",
      "Choisissez une ville (ou 0 pour quitter) : \n"
     ]
    }
   ],
   "source": [
    "import os\n",
    "import pandas\n",
    "Lieu = os.getcwd()\n",
    "\n",
    "info_villes=pandas.read_csv(\"villes_virgule.csv\")\n",
    "\n",
    "a=0\n",
    "while a==0:\n",
    "    print(\"\\nChoisissez une ville (ou 0 pour quitter) : \")\n",
    "    ville=input()\n",
    "    if ville==\"0\":\n",
    "        a=1\n",
    "    else:\n",
    "        info_ville_choisie=info_villes.loc[info_villes[\"nom\"]==ville,[\"nom\",\"dep\",\"cp\",\"nb_hab_2012\",\"dens\",\"surf\",\"long\",\"lat\",\"alt_min\",\"alt_max\"]]\n",
    "        print(\"\\nVoici les informations sur la ville '\",ville,\"' :\\n\")\n",
    "        print(info_ville_choisie)"
   ]
  },
  {
   "cell_type": "markdown",
   "metadata": {},
   "source": [
    "__ Script 4 : Recherche des villes en fonction de l'altitude dans le fichier .csv : __"
   ]
  },
  {
   "cell_type": "code",
   "execution_count": 3,
   "metadata": {
    "scrolled": false
   },
   "outputs": [
    {
     "name": "stdout",
     "output_type": "stream",
     "text": [
      "\n",
      "\n",
      "Choisissez une altitude (minimale)\n",
      "                                pour connaître les caractéristiques des villes ayant\n",
      "                                au minimum cette altitude. (ou 0 pour quitter et VOIR les variables) : 1600\n",
      "                       nom  alt_min\n",
      "1618                Larche   1606.0\n",
      "1798           Saint-Véran   1756.0\n",
      "1847    Molines-en-Queyras   1625.0\n",
      "26943  Caudiès-de-Conflent   1616.0\n",
      "29970              Bessans   1673.0\n",
      "30114          Val-d'Isère   1785.0\n",
      "30127     Bonneval-sur-Arc   1759.0\n",
      "pause0\n",
      "\n",
      "Choisissez une altitude (minimale)\n",
      "                                pour connaître les caractéristiques des villes ayant\n",
      "                                au minimum cette altitude. (ou 0 pour quitter et VOIR les variables) : 0\n"
     ]
    }
   ],
   "source": [
    "import os\n",
    "import pandas\n",
    "Lieu = os.getcwd()\n",
    "info_villes=pandas.read_csv(\"villes_virgule.csv\")\n",
    "print()\n",
    "\n",
    "a=0\n",
    "while a==0:\n",
    "    altitude=input(\"\"\"\\nChoisissez une altitude (minimale)\n",
    "                                pour connaître les caractéristiques des villes ayant\n",
    "                                au minimum cette altitude. (ou 0 pour quitter et VOIR les variables) : \"\"\")\n",
    "    altitude=int(altitude)\n",
    "    if altitude==0:\n",
    "        a=1\n",
    "    else:\n",
    "        villes_altitude_choisie=info_villes.loc[info_villes[\"alt_min\"]>altitude,[\"nom\",\"alt_min\"]]\n",
    "        print(villes_altitude_choisie)\n",
    "        poz=input(\"pause\")\n",
    "\n",
    "\n"
   ]
  },
  {
   "cell_type": "code",
   "execution_count": null,
   "metadata": {
    "scrolled": true
   },
   "outputs": [],
   "source": []
  }
 ],
 "metadata": {
  "kernelspec": {
   "display_name": "Python 3",
   "language": "python",
   "name": "python3"
  },
  "language_info": {
   "codemirror_mode": {
    "name": "ipython",
    "version": 3
   },
   "file_extension": ".py",
   "mimetype": "text/x-python",
   "name": "python",
   "nbconvert_exporter": "python",
   "pygments_lexer": "ipython3",
   "version": "3.7.4"
  }
 },
 "nbformat": 4,
 "nbformat_minor": 2
}
